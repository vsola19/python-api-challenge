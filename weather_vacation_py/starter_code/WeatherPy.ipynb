{
 "cells": [
  {
   "cell_type": "markdown",
   "metadata": {},
   "source": [
    "# WeatherPy\n",
    "----\n",
    "\n",
    "#### Note\n",
    "* Instructions have been included for each segment. You do not have to follow them exactly, but they are included to help you think through the steps."
   ]
  },
  {
   "cell_type": "code",
   "execution_count": 1,
   "metadata": {
    "scrolled": true
   },
   "outputs": [],
   "source": [
    "# Dependencies and Setup\n",
    "import matplotlib.pyplot as plt\n",
    "import pandas as pd\n",
    "import numpy as np\n",
    "import requests\n",
    "import datetime\n",
    "import time\n",
    "from scipy.stats import linregress\n",
    "\n",
    "# Import API key\n",
    "from api_keys import weather_api_key\n",
    "\n",
    "# Incorporated citipy to determine city based on latitude and longitude\n",
    "from citipy import citipy\n",
    "\n",
    "# Output File (CSV)\n",
    "output_data_file = \"output_data/cities.csv\"\n",
    "\n",
    "# Range of latitudes and longitudes\n",
    "lat_range = (-90, 90)\n",
    "lng_range = (-180, 180)"
   ]
  },
  {
   "cell_type": "markdown",
   "metadata": {},
   "source": [
    "## Generate Cities List"
   ]
  },
  {
   "cell_type": "code",
   "execution_count": 2,
   "metadata": {},
   "outputs": [
    {
     "name": "stdout",
     "output_type": "stream",
     "text": [
      "03/21/22\n"
     ]
    }
   ],
   "source": [
    "today = f\"{datetime.datetime.now():%m/%d/%y}\"\n",
    "print(today)"
   ]
  },
  {
   "cell_type": "code",
   "execution_count": 3,
   "metadata": {},
   "outputs": [
    {
     "data": {
      "text/plain": [
       "594"
      ]
     },
     "execution_count": 3,
     "metadata": {},
     "output_type": "execute_result"
    }
   ],
   "source": [
    "# List for holding lat_lngs and cities\n",
    "lat_lngs = []\n",
    "cities = []\n",
    "\n",
    "# Create a set of random lat and lng combinations\n",
    "lats = np.random.uniform(lat_range[0], lat_range[1], size=1500)\n",
    "lngs = np.random.uniform(lng_range[0], lng_range[1], size=1500)\n",
    "lat_lngs = zip(lats, lngs)\n",
    "\n",
    "# Identify nearest city for each lat, lng combination\n",
    "for lat_lng in lat_lngs:\n",
    "    city = citipy.nearest_city(lat_lng[0], lat_lng[1]).city_name\n",
    "    \n",
    "    # If the city is unique, then add it to a our cities list\n",
    "    if city not in cities:\n",
    "        cities.append(city)\n",
    "\n",
    "# Print the city count to confirm sufficient count\n",
    "len(cities)"
   ]
  },
  {
   "cell_type": "markdown",
   "metadata": {},
   "source": [
    "### Perform API Calls\n",
    "* Perform a weather check on each city using a series of successive API calls.\n",
    "* Include a print log of each city as it'sbeing processed (with the city number and city name).\n"
   ]
  },
  {
   "cell_type": "code",
   "execution_count": 4,
   "metadata": {},
   "outputs": [],
   "source": [
    "# set up lists to hold reponse info\n",
    "city_list = []\n",
    "cloudiness_list = []\n",
    "country_list = []\n",
    "date_list = []\n",
    "humidity_list = []\n",
    "lat_list = []\n",
    "lng_list = []\n",
    "max_temp_list = []\n",
    "wind_speed_list = []"
   ]
  },
  {
   "cell_type": "code",
   "execution_count": 5,
   "metadata": {},
   "outputs": [
    {
     "name": "stdout",
     "output_type": "stream",
     "text": [
      "------------------------\n",
      "Beginning Data Retrieval\n",
      "------------------------\n",
      "Processing Record 1 of Set 0 : rikitea\n",
      "Processing Record 1 of Set 0 : mpika\n",
      "Processing Record 1 of Set 0 : lebu\n",
      "Processing Record 1 of Set 0 : bluff\n",
      "Processing Record 1 of Set 0 : san luis\n",
      "Processing Record 1 of Set 0 : hilo\n",
      "Processing Record 1 of Set 0 : ponta delgada\n",
      "Processing Record 1 of Set 0 : ribeira grande\n",
      "Processing Record 1 of Set 0 : bredasdorp\n",
      "Processing Record 1 of Set 0 : busselton\n",
      "Processing Record 1 of Set 0 : waingapu\n",
      "Processing Record 1 of Set 0 : alice springs\n",
      "Processing Record 1 of Set 0 : port-gentil\n",
      "Processing Record 1 of Set 0 : grindavik\n",
      "Processing Record 1 of Set 0 : saint-philippe\n",
      "Processing Record 1 of Set 0 : norman wells\n",
      "Processing Record 1 of Set 0 : atuona\n",
      "Processing Record 1 of Set 0 : praxedis guerrero\n",
      "Processing Record 1 of Set 0 : jinchang\n",
      "Processing Record 1 of Set 0 : east london\n",
      "Processing Record 1 of Set 0 : new norfolk\n",
      "Processing Record 1 of Set 0 : ushuaia\n",
      "Processing Record 1 of Set 0 : mahebourg\n",
      "Processing Record 1 of Set 0 : iqaluit\n",
      "Processing Record 1 of Set 0 : albany\n",
      "Processing Record 1 of Set 0 : ilulissat\n",
      "Processing Record 1 of Set 0 : havelock\n",
      "Processing Record 1 of Set 0 : deputatskiy\n",
      "Processing Record 1 of Set 0 : meulaboh\n",
      "Processing Record 1 of Set 0 : castro alves\n",
      "Processing Record 1 of Set 0 : panzhihua\n",
      "Processing Record 1 of Set 0 : ust-karsk\n",
      "Processing Record 1 of Set 0 : pontes e lacerda\n",
      "Processing Record 1 of Set 0 : codrington\n",
      "Processing Record 1 of Set 0 : mataura\n",
      "Processing Record 1 of Set 0 : san quintin\n",
      "Processing Record 1 of Set 0 : moissala\n",
      "Processing Record 1 of Set 0 : cabo san lucas\n",
      "Processing Record 1 of Set 0 : opuwo\n",
      "City not found. Skipping...\n",
      "Processing Record 1 of Set 0 : chuy\n",
      "Processing Record 1 of Set 0 : vanderhoof\n",
      "Processing Record 1 of Set 0 : burnie\n",
      "Processing Record 1 of Set 0 : san cristobal\n",
      "Processing Record 1 of Set 0 : sikar\n",
      "Processing Record 1 of Set 0 : kodiak\n",
      "Processing Record 1 of Set 0 : castro\n",
      "Processing Record 1 of Set 0 : vao\n",
      "Processing Record 1 of Set 0 : punta arenas\n",
      "Processing Record 1 of Set 0 : cidreira\n",
      "Processing Record 1 of Set 0 : karratha\n",
      "Processing Record 1 of Set 0 : henties bay\n",
      "Processing Record 1 of Set 0 : coihaique\n",
      "Processing Record 1 of Set 0 : labuhan\n",
      "City not found. Skipping...\n",
      "Processing Record 1 of Set 0 : bodden town\n",
      "Processing Record 1 of Set 0 : namibe\n",
      "Processing Record 1 of Set 0 : vila velha\n",
      "Processing Record 1 of Set 0 : hermanus\n",
      "Processing Record 1 of Set 0 : kidal\n",
      "Processing Record 1 of Set 0 : torbay\n",
      "Processing Record 1 of Set 0 : rio grande\n",
      "Processing Record 1 of Set 0 : geraldton\n",
      "Processing Record 1 of Set 0 : mwinilunga\n",
      "Processing Record 1 of Set 0 : port elizabeth\n",
      "Processing Record 1 of Set 0 : cozumel\n",
      "Processing Record 1 of Set 0 : mandalgovi\n",
      "Processing Record 1 of Set 0 : santa vitoria do palmar\n",
      "Processing Record 1 of Set 0 : yatou\n",
      "Processing Record 1 of Set 0 : kysyl-syr\n",
      "Processing Record 1 of Set 0 : cape town\n",
      "Processing Record 1 of Set 0 : cayenne\n",
      "Processing Record 1 of Set 0 : nelson bay\n",
      "City not found. Skipping...\n",
      "Processing Record 1 of Set 0 : gordeyevka\n",
      "Processing Record 1 of Set 0 : hualmay\n",
      "Processing Record 1 of Set 0 : sitka\n",
      "Processing Record 1 of Set 0 : vila franca do campo\n",
      "Processing Record 1 of Set 0 : chokurdakh\n",
      "Processing Record 1 of Set 0 : aiken\n",
      "City not found. Skipping...\n",
      "Processing Record 1 of Set 0 : bathsheba\n",
      "Processing Record 1 of Set 0 : yellowknife\n",
      "Processing Record 1 of Set 0 : juba\n",
      "Processing Record 1 of Set 0 : the valley\n",
      "Processing Record 1 of Set 0 : sokolo\n",
      "Processing Record 1 of Set 0 : olafsvik\n",
      "Processing Record 1 of Set 0 : butaritari\n",
      "Processing Record 1 of Set 0 : avarua\n",
      "Processing Record 1 of Set 0 : faya\n",
      "Processing Record 1 of Set 0 : cherskiy\n",
      "Processing Record 1 of Set 0 : kozhva\n",
      "Processing Record 1 of Set 0 : roald\n",
      "Processing Record 1 of Set 0 : sao lourenco do sul\n",
      "City not found. Skipping...\n",
      "Processing Record 1 of Set 0 : pochutla\n",
      "Processing Record 1 of Set 0 : airai\n",
      "Processing Record 1 of Set 0 : beringovskiy\n",
      "Processing Record 1 of Set 0 : grafton\n",
      "Processing Record 1 of Set 0 : pemba\n",
      "Processing Record 1 of Set 0 : leningradskiy\n",
      "Processing Record 1 of Set 0 : tautira\n",
      "Processing Record 1 of Set 0 : pimentel\n",
      "Processing Record 1 of Set 0 : nikolskoye\n",
      "Processing Record 1 of Set 0 : phuthaditjhaba\n",
      "City not found. Skipping...\n",
      "City not found. Skipping...\n",
      "Processing Record 1 of Set 0 : namatanai\n",
      "City not found. Skipping...\n",
      "Processing Record 1 of Set 0 : esperance\n",
      "Processing Record 1 of Set 0 : longyearbyen\n",
      "Processing Record 1 of Set 0 : belaya gora\n",
      "Processing Record 1 of Set 0 : lashio\n",
      "Processing Record 1 of Set 0 : carnarvon\n",
      "Processing Record 1 of Set 0 : gwadar\n",
      "Processing Record 1 of Set 0 : hofn\n",
      "Processing Record 1 of Set 0 : tuktoyaktuk\n",
      "Processing Record 1 of Set 0 : sauda\n",
      "Processing Record 1 of Set 0 : kapaa\n",
      "Processing Record 1 of Set 0 : puerto ayora\n",
      "Processing Record 1 of Set 0 : biak\n",
      "Processing Record 1 of Set 0 : khatanga\n",
      "Processing Record 1 of Set 0 : port lincoln\n",
      "City not found. Skipping...\n",
      "Processing Record 1 of Set 0 : lompoc\n",
      "Processing Record 1 of Set 0 : verkhoyansk\n",
      "Processing Record 1 of Set 0 : butterworth\n",
      "Processing Record 1 of Set 0 : komsomolskiy\n",
      "Processing Record 1 of Set 0 : saint george\n",
      "City not found. Skipping...\n",
      "Processing Record 1 of Set 0 : atar\n",
      "Processing Record 1 of Set 0 : antanifotsy\n",
      "Processing Record 1 of Set 0 : hobart\n",
      "City not found. Skipping...\n",
      "Processing Record 1 of Set 0 : kambia\n",
      "Processing Record 1 of Set 0 : barrow\n",
      "Processing Record 1 of Set 0 : yerofey pavlovich\n",
      "Processing Record 1 of Set 0 : pisco\n",
      "Processing Record 1 of Set 0 : havoysund\n",
      "Processing Record 1 of Set 0 : san jose\n",
      "Processing Record 1 of Set 0 : zhigansk\n",
      "Processing Record 1 of Set 0 : kahului\n",
      "Processing Record 1 of Set 0 : pervomayskoye\n",
      "City not found. Skipping...\n",
      "Processing Record 1 of Set 0 : hami\n",
      "Processing Record 1 of Set 0 : tchaourou\n",
      "Processing Record 1 of Set 0 : dakoro\n",
      "Processing Record 1 of Set 0 : san patricio\n",
      "City not found. Skipping...\n",
      "Processing Record 1 of Set 0 : kruisfontein\n",
      "Processing Record 1 of Set 0 : lipari\n",
      "Processing Record 1 of Set 0 : bambous virieux\n",
      "Processing Record 1 of Set 0 : jalu\n",
      "Processing Record 1 of Set 0 : hamilton\n",
      "Processing Record 1 of Set 0 : salalah\n",
      "Processing Record 1 of Set 0 : georgetown\n",
      "Processing Record 1 of Set 0 : sur\n",
      "Processing Record 1 of Set 0 : zhanaozen\n",
      "Processing Record 1 of Set 0 : yasothon\n",
      "Processing Record 1 of Set 0 : florianopolis\n",
      "Processing Record 1 of Set 0 : victoria\n",
      "Processing Record 1 of Set 0 : kolaras\n",
      "Processing Record 1 of Set 0 : isangel\n",
      "Processing Record 1 of Set 0 : nemuro\n",
      "Processing Record 1 of Set 0 : camalu\n",
      "City not found. Skipping...\n",
      "Processing Record 1 of Set 0 : qaanaaq\n",
      "Processing Record 1 of Set 0 : jalesar\n",
      "Processing Record 1 of Set 0 : flinders\n",
      "Processing Record 1 of Set 0 : makakilo city\n",
      "Processing Record 1 of Set 0 : jamestown\n",
      "Processing Record 1 of Set 0 : severo-kurilsk\n",
      "Processing Record 1 of Set 0 : egvekinot\n",
      "Processing Record 1 of Set 0 : vilhena\n",
      "Processing Record 1 of Set 0 : launceston\n",
      "Processing Record 1 of Set 0 : bilibino\n",
      "Processing Record 1 of Set 0 : dikson\n",
      "Processing Record 1 of Set 0 : west wendover\n",
      "Processing Record 1 of Set 0 : bengkulu\n",
      "Processing Record 1 of Set 0 : mar del plata\n",
      "Processing Record 1 of Set 0 : vostok\n",
      "Processing Record 1 of Set 0 : nome\n",
      "Processing Record 1 of Set 0 : oranjemund\n",
      "City not found. Skipping...\n",
      "Processing Record 1 of Set 0 : torzhok\n",
      "Processing Record 1 of Set 0 : katsuura\n",
      "Processing Record 1 of Set 0 : verkhnevilyuysk\n",
      "Processing Record 1 of Set 0 : khandyga\n",
      "Processing Record 1 of Set 0 : kamenka\n",
      "Processing Record 1 of Set 0 : talnakh\n",
      "Processing Record 1 of Set 0 : anadyr\n",
      "City not found. Skipping...\n",
      "Processing Record 1 of Set 0 : arraial do cabo\n",
      "Processing Record 1 of Set 0 : abu samrah\n",
      "Processing Record 1 of Set 0 : bethel\n",
      "Processing Record 1 of Set 0 : panjab\n",
      "Processing Record 1 of Set 0 : novaya igirma\n",
      "Processing Record 1 of Set 0 : sorland\n",
      "Processing Record 1 of Set 0 : inuvik\n",
      "Processing Record 1 of Set 0 : aksum\n",
      "Processing Record 1 of Set 0 : salym\n",
      "Processing Record 1 of Set 0 : maba\n",
      "Processing Record 1 of Set 0 : sorong\n",
      "Processing Record 1 of Set 0 : puerto narino\n",
      "Processing Record 1 of Set 0 : adre\n"
     ]
    },
    {
     "name": "stdout",
     "output_type": "stream",
     "text": [
      "Processing Record 1 of Set 0 : chernyshevskiy\n",
      "Processing Record 1 of Set 0 : vaini\n",
      "Processing Record 1 of Set 0 : griffith\n",
      "Processing Record 1 of Set 0 : sisophon\n",
      "Processing Record 1 of Set 0 : brodokalmak\n",
      "City not found. Skipping...\n",
      "Processing Record 1 of Set 0 : kaka\n",
      "Processing Record 1 of Set 0 : faanui\n",
      "Processing Record 1 of Set 0 : pacific grove\n",
      "Processing Record 1 of Set 0 : fortuna\n",
      "Processing Record 1 of Set 0 : port alfred\n",
      "Processing Record 1 of Set 0 : moranbah\n",
      "Processing Record 1 of Set 0 : alamosa\n",
      "Processing Record 1 of Set 0 : flin flon\n",
      "Processing Record 1 of Set 0 : husavik\n",
      "Processing Record 1 of Set 0 : payo\n",
      "Processing Record 1 of Set 0 : parabel\n",
      "Processing Record 1 of Set 0 : stornoway\n",
      "Processing Record 1 of Set 0 : guerrero negro\n",
      "Processing Record 1 of Set 0 : moose factory\n",
      "Processing Record 1 of Set 0 : ust-tsilma\n",
      "Processing Record 1 of Set 0 : baykit\n",
      "Processing Record 1 of Set 0 : ranong\n",
      "City not found. Skipping...\n",
      "Processing Record 1 of Set 0 : aklavik\n",
      "Processing Record 1 of Set 0 : morgantown\n",
      "Processing Record 1 of Set 0 : inhambane\n",
      "Processing Record 1 of Set 0 : kavaratti\n",
      "City not found. Skipping...\n",
      "Processing Record 1 of Set 0 : mata\n",
      "Processing Record 1 of Set 0 : montepuez\n",
      "Processing Record 1 of Set 0 : tezu\n",
      "Processing Record 1 of Set 0 : richards bay\n",
      "Processing Record 1 of Set 0 : lasa\n",
      "Processing Record 1 of Set 0 : kavieng\n",
      "Processing Record 1 of Set 0 : adwa\n",
      "Processing Record 1 of Set 0 : zuya\n",
      "Processing Record 1 of Set 0 : hithadhoo\n",
      "City not found. Skipping...\n",
      "Processing Record 1 of Set 0 : trapani\n",
      "Processing Record 1 of Set 0 : klyuchi\n",
      "Processing Record 1 of Set 0 : bako\n",
      "City not found. Skipping...\n",
      "Processing Record 1 of Set 0 : honiara\n",
      "Processing Record 1 of Set 0 : provideniya\n",
      "Processing Record 1 of Set 0 : wattegama\n",
      "Processing Record 1 of Set 0 : bucerias\n",
      "Processing Record 1 of Set 0 : suntar\n",
      "Processing Record 1 of Set 0 : mana\n",
      "Processing Record 1 of Set 0 : linjiang\n",
      "Processing Record 1 of Set 0 : tazovskiy\n",
      "Processing Record 1 of Set 0 : quarai\n",
      "Processing Record 1 of Set 0 : bandarbeyla\n",
      "Processing Record 1 of Set 0 : thompson\n",
      "Processing Record 1 of Set 0 : fasa\n",
      "Processing Record 1 of Set 0 : haines junction\n",
      "Processing Record 1 of Set 0 : upernavik\n",
      "Processing Record 1 of Set 0 : atasu\n",
      "Processing Record 1 of Set 0 : strezhevoy\n",
      "Processing Record 1 of Set 0 : bud\n",
      "Processing Record 1 of Set 0 : saskylakh\n",
      "Processing Record 1 of Set 0 : umm lajj\n",
      "Processing Record 1 of Set 0 : souillac\n",
      "Processing Record 1 of Set 0 : lewiston\n",
      "Processing Record 1 of Set 0 : portland\n",
      "Processing Record 1 of Set 0 : bayir\n",
      "Processing Record 1 of Set 0 : rio pardo de minas\n",
      "Processing Record 1 of Set 0 : santa cruz\n",
      "Processing Record 1 of Set 0 : solnechnyy\n",
      "Processing Record 1 of Set 0 : lavrentiya\n",
      "Processing Record 1 of Set 0 : south river\n",
      "Processing Record 1 of Set 0 : phibun mangsahan\n",
      "Processing Record 1 of Set 0 : punta de bombon\n",
      "Processing Record 1 of Set 0 : pevek\n",
      "Processing Record 1 of Set 0 : nizwa\n",
      "Processing Record 1 of Set 0 : lorengau\n",
      "Processing Record 1 of Set 0 : cefalu\n",
      "Processing Record 1 of Set 0 : broome\n",
      "Processing Record 1 of Set 0 : lucapa\n",
      "Processing Record 1 of Set 0 : tasiilaq\n",
      "Processing Record 1 of Set 0 : idenao\n",
      "Processing Record 1 of Set 0 : chekhov\n",
      "Processing Record 1 of Set 0 : salinas\n",
      "Processing Record 1 of Set 0 : carauari\n",
      "Processing Record 1 of Set 0 : port hardy\n",
      "Processing Record 1 of Set 0 : carutapera\n",
      "Processing Record 1 of Set 0 : necochea\n",
      "Processing Record 1 of Set 0 : kampot\n",
      "Processing Record 1 of Set 0 : blagoyevo\n",
      "Processing Record 1 of Set 0 : boddam\n",
      "Processing Record 1 of Set 0 : loukhi\n",
      "Processing Record 1 of Set 0 : broken hill\n",
      "Processing Record 1 of Set 0 : tamandare\n",
      "Processing Record 1 of Set 0 : santa barbara\n",
      "Processing Record 1 of Set 0 : berlevag\n",
      "Processing Record 1 of Set 0 : gushikawa\n",
      "Processing Record 1 of Set 0 : kieta\n",
      "City not found. Skipping...\n",
      "Processing Record 1 of Set 0 : newton abbot\n",
      "Processing Record 1 of Set 0 : kharitonovo\n",
      "Processing Record 1 of Set 0 : polunochnoye\n",
      "Processing Record 1 of Set 0 : beidao\n",
      "Processing Record 1 of Set 0 : paita\n",
      "Processing Record 1 of Set 0 : natal\n",
      "Processing Record 1 of Set 0 : bara\n",
      "Processing Record 1 of Set 0 : les cayes\n",
      "Processing Record 1 of Set 0 : mirabad\n",
      "Processing Record 1 of Set 0 : robertsport\n",
      "Processing Record 1 of Set 0 : alofi\n",
      "Processing Record 1 of Set 0 : saldanha\n",
      "Processing Record 1 of Set 0 : luzilandia\n",
      "Processing Record 1 of Set 0 : toledo\n",
      "Processing Record 1 of Set 0 : tabuleiro do norte\n",
      "Processing Record 1 of Set 0 : balkhash\n",
      "Processing Record 1 of Set 0 : le port\n",
      "Processing Record 1 of Set 0 : itamaraca\n",
      "Processing Record 1 of Set 0 : kununurra\n",
      "Processing Record 1 of Set 0 : guararapes\n",
      "City not found. Skipping...\n",
      "Processing Record 1 of Set 0 : bireun\n",
      "Processing Record 1 of Set 0 : klaksvik\n",
      "Processing Record 1 of Set 0 : hojai\n",
      "Processing Record 1 of Set 0 : hambantota\n",
      "Processing Record 1 of Set 0 : ust-nera\n",
      "Processing Record 1 of Set 0 : ojinaga\n",
      "Processing Record 1 of Set 0 : moerai\n",
      "Processing Record 1 of Set 0 : drumheller\n",
      "Processing Record 1 of Set 0 : victor harbor\n",
      "Processing Record 1 of Set 0 : terrell\n",
      "Processing Record 1 of Set 0 : nanortalik\n",
      "Processing Record 1 of Set 0 : santiago del estero\n",
      "Processing Record 1 of Set 0 : fairbanks\n",
      "Processing Record 1 of Set 0 : north platte\n",
      "Processing Record 1 of Set 0 : vestmanna\n",
      "Processing Record 1 of Set 0 : dafeng\n",
      "Processing Record 1 of Set 0 : grand island\n",
      "City not found. Skipping...\n",
      "Processing Record 1 of Set 0 : roscommon\n",
      "Processing Record 1 of Set 0 : viransehir\n",
      "Processing Record 1 of Set 0 : skjervoy\n",
      "City not found. Skipping...\n",
      "Processing Record 1 of Set 0 : rawson\n",
      "Processing Record 1 of Set 0 : hasaki\n",
      "Processing Record 1 of Set 0 : grand gaube\n",
      "Processing Record 1 of Set 0 : turan\n",
      "Processing Record 1 of Set 0 : samfya\n",
      "Processing Record 1 of Set 0 : minna\n",
      "Processing Record 1 of Set 0 : north bend\n",
      "Processing Record 1 of Set 0 : port augusta\n",
      "Processing Record 1 of Set 0 : rocha\n",
      "Processing Record 1 of Set 0 : novo aripuana\n",
      "Processing Record 1 of Set 0 : baiyin\n",
      "Processing Record 1 of Set 0 : naples\n",
      "Processing Record 1 of Set 0 : puerto leguizamo\n",
      "City not found. Skipping...\n",
      "Processing Record 1 of Set 0 : adrar\n",
      "Processing Record 1 of Set 0 : fare\n",
      "Processing Record 1 of Set 0 : leh\n",
      "Processing Record 1 of Set 0 : college\n",
      "Processing Record 1 of Set 0 : jinxiang\n",
      "Processing Record 1 of Set 0 : college place\n",
      "City not found. Skipping...\n",
      "Processing Record 1 of Set 0 : yining\n",
      "Processing Record 1 of Set 0 : svit\n",
      "Processing Record 1 of Set 0 : acapulco\n",
      "Processing Record 1 of Set 0 : ponta do sol\n",
      "Processing Record 1 of Set 0 : eenhana\n",
      "Processing Record 1 of Set 0 : mahajanga\n",
      "Processing Record 1 of Set 0 : hobyo\n",
      "Processing Record 1 of Set 0 : tiksi\n",
      "Processing Record 1 of Set 0 : santander jimenez\n",
      "Processing Record 1 of Set 0 : pangnirtung\n",
      "Processing Record 1 of Set 0 : edd\n",
      "Processing Record 1 of Set 0 : lalibela\n",
      "Processing Record 1 of Set 0 : seymchan\n",
      "City not found. Skipping...\n",
      "Processing Record 1 of Set 0 : vaitape\n",
      "Processing Record 1 of Set 0 : kaitangata\n",
      "City not found. Skipping...\n",
      "Processing Record 1 of Set 0 : dali\n",
      "Processing Record 1 of Set 0 : abha\n",
      "Processing Record 1 of Set 0 : severodvinsk\n",
      "Processing Record 1 of Set 0 : saint-georges\n",
      "Processing Record 1 of Set 0 : praia\n",
      "City not found. Skipping...\n",
      "Processing Record 1 of Set 0 : vanimo\n",
      "City not found. Skipping...\n",
      "City not found. Skipping...\n",
      "Processing Record 1 of Set 0 : beberibe\n",
      "Processing Record 1 of Set 0 : iisalmi\n",
      "Processing Record 1 of Set 0 : soe\n",
      "Processing Record 1 of Set 0 : agucadoura\n",
      "Processing Record 1 of Set 0 : parnamirim\n",
      "Processing Record 1 of Set 0 : ahuimanu\n",
      "Processing Record 1 of Set 0 : ostrovnoy\n",
      "Processing Record 1 of Set 0 : hervey bay\n",
      "Processing Record 1 of Set 0 : kerrville\n",
      "Processing Record 1 of Set 0 : bumba\n",
      "Processing Record 1 of Set 0 : kerema\n",
      "Processing Record 1 of Set 0 : khakhea\n",
      "Processing Record 1 of Set 0 : lagos\n",
      "Processing Record 1 of Set 0 : sao filipe\n",
      "Processing Record 1 of Set 0 : altay\n",
      "Processing Record 1 of Set 0 : gamba\n",
      "Processing Record 1 of Set 0 : ulaangom\n",
      "Processing Record 1 of Set 0 : akureyri\n",
      "Processing Record 1 of Set 0 : mnogovershinnyy\n",
      "Processing Record 1 of Set 0 : kaspiysk\n",
      "City not found. Skipping...\n",
      "Processing Record 1 of Set 0 : miles city\n"
     ]
    },
    {
     "name": "stdout",
     "output_type": "stream",
     "text": [
      "Processing Record 1 of Set 0 : baracoa\n",
      "Processing Record 1 of Set 0 : whitehorse\n",
      "Processing Record 1 of Set 0 : laramie\n",
      "Processing Record 1 of Set 0 : salinopolis\n",
      "Processing Record 1 of Set 0 : amapa\n",
      "Processing Record 1 of Set 0 : los llanos de aridane\n",
      "Processing Record 1 of Set 0 : deer lake\n",
      "Processing Record 1 of Set 0 : duren\n",
      "Processing Record 1 of Set 0 : san andres\n",
      "Processing Record 1 of Set 0 : camopi\n",
      "Processing Record 1 of Set 0 : vardo\n",
      "Processing Record 1 of Set 0 : isla mujeres\n",
      "Processing Record 1 of Set 0 : champerico\n",
      "City not found. Skipping...\n",
      "Processing Record 1 of Set 0 : pemberton\n",
      "Processing Record 1 of Set 0 : sandy bay\n",
      "Processing Record 1 of Set 0 : severo-yeniseyskiy\n",
      "Processing Record 1 of Set 0 : comodoro rivadavia\n",
      "Processing Record 1 of Set 0 : kulhudhuffushi\n",
      "Processing Record 1 of Set 0 : prainha\n",
      "Processing Record 1 of Set 0 : caravelas\n",
      "Processing Record 1 of Set 0 : matadi\n",
      "Processing Record 1 of Set 0 : warri\n",
      "Processing Record 1 of Set 0 : marzuq\n",
      "Processing Record 1 of Set 0 : hearst\n",
      "Processing Record 1 of Set 0 : wajir\n",
      "Processing Record 1 of Set 0 : yaan\n",
      "Processing Record 1 of Set 0 : chaozhou\n",
      "Processing Record 1 of Set 0 : florencia\n",
      "Processing Record 1 of Set 0 : braganca\n",
      "Processing Record 1 of Set 0 : inirida\n",
      "City not found. Skipping...\n",
      "Processing Record 1 of Set 0 : chulman\n",
      "Processing Record 1 of Set 0 : sindor\n",
      "City not found. Skipping...\n",
      "Processing Record 1 of Set 0 : hirara\n",
      "City not found. Skipping...\n",
      "Processing Record 1 of Set 0 : korla\n",
      "Processing Record 1 of Set 0 : gogrial\n",
      "Processing Record 1 of Set 0 : daura\n",
      "Processing Record 1 of Set 0 : tateyama\n",
      "Processing Record 1 of Set 0 : loanda\n",
      "Processing Record 1 of Set 0 : sechelt\n",
      "Processing Record 1 of Set 0 : cairns\n",
      "Processing Record 1 of Set 0 : chegutu\n",
      "Processing Record 1 of Set 0 : pawa\n",
      "City not found. Skipping...\n",
      "Processing Record 1 of Set 0 : srednekolymsk\n",
      "Processing Record 1 of Set 0 : maralal\n",
      "Processing Record 1 of Set 0 : nizhniy tsasuchey\n",
      "Processing Record 1 of Set 0 : sangmelima\n",
      "Processing Record 1 of Set 0 : bermejo\n",
      "Processing Record 1 of Set 0 : tacuarembo\n",
      "Processing Record 1 of Set 0 : corn island\n",
      "City not found. Skipping...\n",
      "Processing Record 1 of Set 0 : shakawe\n",
      "Processing Record 1 of Set 0 : loknya\n",
      "Processing Record 1 of Set 0 : letnyaya stavka\n",
      "Processing Record 1 of Set 0 : concepcion del oro\n",
      "Processing Record 1 of Set 0 : aguimes\n",
      "Processing Record 1 of Set 0 : tshikapa\n",
      "Processing Record 1 of Set 0 : along\n",
      "Processing Record 1 of Set 0 : soligalich\n",
      "Processing Record 1 of Set 0 : okhotsk\n",
      "Processing Record 1 of Set 0 : smithers\n",
      "Processing Record 1 of Set 0 : rio gallegos\n",
      "Processing Record 1 of Set 0 : mahon\n",
      "Processing Record 1 of Set 0 : evensk\n",
      "Processing Record 1 of Set 0 : tuatapere\n",
      "Processing Record 1 of Set 0 : chifeng\n",
      "Processing Record 1 of Set 0 : ormara\n",
      "Processing Record 1 of Set 0 : nuuk\n",
      "Processing Record 1 of Set 0 : mizan teferi\n",
      "Processing Record 1 of Set 0 : san vicente\n",
      "Processing Record 1 of Set 0 : najran\n",
      "Processing Record 1 of Set 0 : mmabatho\n",
      "City not found. Skipping...\n",
      "Processing Record 1 of Set 0 : saint anthony\n",
      "Processing Record 1 of Set 0 : mapiripan\n",
      "Processing Record 1 of Set 0 : valdez\n",
      "Processing Record 1 of Set 0 : costa rica\n",
      "Processing Record 1 of Set 0 : kousseri\n",
      "Processing Record 1 of Set 0 : port keats\n",
      "Processing Record 1 of Set 0 : zavitinsk\n",
      "Processing Record 1 of Set 0 : katsina\n",
      "Processing Record 1 of Set 0 : pilar\n",
      "Processing Record 1 of Set 0 : mount isa\n",
      "Processing Record 1 of Set 0 : maniitsoq\n",
      "Processing Record 1 of Set 0 : princeton\n",
      "Processing Record 1 of Set 0 : halmstad\n",
      "Processing Record 1 of Set 0 : witu\n",
      "Processing Record 1 of Set 0 : pilna\n",
      "Processing Record 1 of Set 0 : lata\n",
      "Processing Record 1 of Set 0 : westport\n",
      "Processing Record 1 of Set 0 : kazanskaya\n",
      "Processing Record 1 of Set 0 : reconquista\n",
      "Processing Record 1 of Set 0 : singleton\n",
      "Processing Record 1 of Set 0 : pascagoula\n",
      "Processing Record 1 of Set 0 : babol\n",
      "Processing Record 1 of Set 0 : dharchula\n",
      "Processing Record 1 of Set 0 : natagaima\n",
      "Processing Record 1 of Set 0 : port blair\n",
      "Processing Record 1 of Set 0 : lamar\n",
      "Processing Record 1 of Set 0 : pachino\n",
      "Processing Record 1 of Set 0 : volchikha\n",
      "Processing Record 1 of Set 0 : pitimbu\n",
      "Processing Record 1 of Set 0 : coquimbo\n",
      "Processing Record 1 of Set 0 : elizabethtown\n",
      "Processing Record 1 of Set 0 : marquette\n",
      "Processing Record 1 of Set 0 : padang\n",
      "Processing Record 1 of Set 0 : azogues\n",
      "City not found. Skipping...\n",
      "Processing Record 1 of Set 0 : dingle\n",
      "City not found. Skipping...\n",
      "Processing Record 1 of Set 0 : general pico\n",
      "Processing Record 1 of Set 0 : capitan bado\n",
      "Processing Record 1 of Set 0 : chicama\n",
      "Processing Record 1 of Set 0 : betare oya\n",
      "Processing Record 1 of Set 0 : ewo\n",
      "Processing Record 1 of Set 0 : mangrol\n",
      "Processing Record 1 of Set 0 : daru\n",
      "Processing Record 1 of Set 0 : hella\n",
      "Processing Record 1 of Set 0 : mount gambier\n",
      "Processing Record 1 of Set 0 : ochakiv\n",
      "Processing Record 1 of Set 0 : parati\n",
      "Processing Record 1 of Set 0 : avera\n",
      "Processing Record 1 of Set 0 : bonthe\n",
      "Processing Record 1 of Set 0 : kinablangan\n",
      "Processing Record 1 of Set 0 : ambon\n",
      "Processing Record 1 of Set 0 : oksfjord\n",
      "Processing Record 1 of Set 0 : vysokogornyy\n",
      "Processing Record 1 of Set 0 : owando\n",
      "Processing Record 1 of Set 0 : buala\n",
      "Processing Record 1 of Set 0 : kwale\n",
      "Processing Record 1 of Set 0 : makueni\n",
      "Processing Record 1 of Set 0 : otradnoye\n",
      "Processing Record 1 of Set 0 : wenling\n",
      "Processing Record 1 of Set 0 : ardakan\n",
      "Processing Record 1 of Set 0 : shirokiy\n",
      "Processing Record 1 of Set 0 : ancud\n",
      "Processing Record 1 of Set 0 : praia da vitoria\n",
      "Processing Record 1 of Set 0 : constitucion\n",
      "Processing Record 1 of Set 0 : taoudenni\n",
      "Processing Record 1 of Set 0 : tabou\n",
      "Processing Record 1 of Set 0 : yulara\n",
      "Processing Record 1 of Set 0 : ekuvukeni\n",
      "Processing Record 1 of Set 0 : zhezkazgan\n",
      "Processing Record 1 of Set 0 : sisimiut\n",
      "Processing Record 1 of Set 0 : chekmagush\n",
      "Processing Record 1 of Set 0 : hellendoorn\n",
      "Processing Record 1 of Set 0 : tura\n",
      "Processing Record 1 of Set 0 : watsa\n",
      "Processing Record 1 of Set 0 : middleton\n",
      "Processing Record 1 of Set 0 : margate\n",
      "Processing Record 1 of Set 0 : weligama\n",
      "Processing Record 1 of Set 0 : nouadhibou\n",
      "Processing Record 1 of Set 0 : prince rupert\n",
      "Processing Record 1 of Set 0 : sobolevo\n",
      "Processing Record 1 of Set 0 : joao pinheiro\n",
      "Processing Record 1 of Set 0 : garachine\n",
      "Processing Record 1 of Set 0 : sabzevar\n",
      "Processing Record 1 of Set 0 : chauk\n",
      "Processing Record 1 of Set 0 : kongolo\n",
      "Processing Record 1 of Set 0 : palmer\n",
      "Processing Record 1 of Set 0 : magadan\n",
      "City not found. Skipping...\n",
      "City not found. Skipping...\n",
      "Processing Record 1 of Set 0 : usinsk\n",
      "Processing Record 1 of Set 0 : shemonaikha\n",
      "City not found. Skipping...\n",
      "Processing Record 1 of Set 0 : jersey city\n",
      "City not found. Skipping...\n",
      "Processing Record 1 of Set 0 : lieksa\n",
      "Processing Record 1 of Set 0 : lagoa\n",
      "Processing Record 1 of Set 0 : mehamn\n",
      "Processing Record 1 of Set 0 : iralaya\n",
      "Processing Record 1 of Set 0 : conde\n",
      "Processing Record 1 of Set 0 : yuncheng\n",
      "Processing Record 1 of Set 0 : arman\n",
      "-----------------------------\n",
      "Data Retrieval Complete\n",
      "-----------------------------\n"
     ]
    }
   ],
   "source": [
    "print('------------------------')\n",
    "print('Beginning Data Retrieval')     \n",
    "print('------------------------')\n",
    "\n",
    "#Building the query url:\n",
    "\n",
    "base_url = \"http://api.openweathermap.org/data/2.5/weather?\"\n",
    "units = \"imperial\"\n",
    "query_url = f\"{base_url}appid={weather_api_key}&units={units}&q=\"\n",
    "\n",
    "#Loop through the list of cities and perform a request for data on each:\n",
    "for index, city in enumerate(cities, start = 1):\n",
    "    try:\n",
    "        response = requests.get(query_url + city).json()\n",
    "        city_list.append(response['name'])\n",
    "        cloudiness_list.append(response['clouds']['all'])\n",
    "        country_list.append(response['sys']['country'])\n",
    "        date_list.append(response['dt'])\n",
    "        humidity_list.append(response['main']['humidity'])\n",
    "        lat_list.append(response['coord']['lat'])\n",
    "        lng_list.append(response['coord']['lon'])\n",
    "        max_temp_list.append(response['main']['temp_max'])\n",
    "        wind_speed_list.append(response['wind']['speed'])\n",
    "        index_counter = 0\n",
    "        set_counter = 0\n",
    "        if index_counter > 49:\n",
    "            \n",
    "            set_counter = set_counter + 1\n",
    "        \n",
    "        else:\n",
    "            index_counter = index_counter + 1\n",
    "        \n",
    "        print(f'Processing Record {index_counter} of Set {set_counter} : {city}')\n",
    "        \n",
    "    except(KeyError, IndexError):\n",
    "        print('City not found. Skipping...')\n",
    "    \n",
    "print(f'-----------------------------')\n",
    "print(f'Data Retrieval Complete')\n",
    "print(f'-----------------------------')"
   ]
  },
  {
   "cell_type": "code",
   "execution_count": null,
   "metadata": {},
   "outputs": [],
   "source": []
  },
  {
   "cell_type": "markdown",
   "metadata": {},
   "source": [
    "### Convert Raw Data to DataFrame\n",
    "* Export the city data into a .csv.\n",
    "* Display the DataFrame"
   ]
  },
  {
   "cell_type": "code",
   "execution_count": 6,
   "metadata": {},
   "outputs": [],
   "source": [
    "#Putting it into a pd DataFrame\n",
    "weather_dictionary = pd.DataFrame({\n",
    "                        'City': city_list,\n",
    "                        'Cloudiness': cloudiness_list,\n",
    "                        'Country': country_list,\n",
    "                        'Date': date_list,\n",
    "                        'Humidity': humidity_list,\n",
    "                        'Lat': lat_list,\n",
    "                        'Lng': lng_list,\n",
    "                        'Max Temp': max_temp_list,\n",
    "                        'Wind Speed': wind_speed_list\n",
    "})"
   ]
  },
  {
   "cell_type": "code",
   "execution_count": 7,
   "metadata": {},
   "outputs": [
    {
     "data": {
      "text/plain": [
       "City          548\n",
       "Cloudiness    548\n",
       "Country       548\n",
       "Date          548\n",
       "Humidity      548\n",
       "Lat           548\n",
       "Lng           548\n",
       "Max Temp      548\n",
       "Wind Speed    548\n",
       "dtype: int64"
      ]
     },
     "execution_count": 7,
     "metadata": {},
     "output_type": "execute_result"
    }
   ],
   "source": [
    "#\n",
    "weather_dictionary.count()"
   ]
  },
  {
   "cell_type": "code",
   "execution_count": 8,
   "metadata": {},
   "outputs": [
    {
     "data": {
      "text/html": [
       "<div>\n",
       "<style scoped>\n",
       "    .dataframe tbody tr th:only-of-type {\n",
       "        vertical-align: middle;\n",
       "    }\n",
       "\n",
       "    .dataframe tbody tr th {\n",
       "        vertical-align: top;\n",
       "    }\n",
       "\n",
       "    .dataframe thead th {\n",
       "        text-align: right;\n",
       "    }\n",
       "</style>\n",
       "<table border=\"1\" class=\"dataframe\">\n",
       "  <thead>\n",
       "    <tr style=\"text-align: right;\">\n",
       "      <th></th>\n",
       "      <th>City</th>\n",
       "      <th>Cloudiness</th>\n",
       "      <th>Country</th>\n",
       "      <th>Date</th>\n",
       "      <th>Humidity</th>\n",
       "      <th>Lat</th>\n",
       "      <th>Lng</th>\n",
       "      <th>Max Temp</th>\n",
       "      <th>Wind Speed</th>\n",
       "    </tr>\n",
       "  </thead>\n",
       "  <tbody>\n",
       "    <tr>\n",
       "      <th>0</th>\n",
       "      <td>Rikitea</td>\n",
       "      <td>1</td>\n",
       "      <td>PF</td>\n",
       "      <td>1647844974</td>\n",
       "      <td>73</td>\n",
       "      <td>-23.1203</td>\n",
       "      <td>-134.9692</td>\n",
       "      <td>79.84</td>\n",
       "      <td>14.16</td>\n",
       "    </tr>\n",
       "    <tr>\n",
       "      <th>1</th>\n",
       "      <td>Mpika</td>\n",
       "      <td>100</td>\n",
       "      <td>ZM</td>\n",
       "      <td>1647844975</td>\n",
       "      <td>94</td>\n",
       "      <td>-11.8343</td>\n",
       "      <td>31.4529</td>\n",
       "      <td>61.97</td>\n",
       "      <td>7.65</td>\n",
       "    </tr>\n",
       "    <tr>\n",
       "      <th>2</th>\n",
       "      <td>Lebu</td>\n",
       "      <td>47</td>\n",
       "      <td>CL</td>\n",
       "      <td>1647844976</td>\n",
       "      <td>92</td>\n",
       "      <td>-37.6167</td>\n",
       "      <td>-73.6500</td>\n",
       "      <td>55.96</td>\n",
       "      <td>4.36</td>\n",
       "    </tr>\n",
       "    <tr>\n",
       "      <th>3</th>\n",
       "      <td>Bluff</td>\n",
       "      <td>10</td>\n",
       "      <td>NZ</td>\n",
       "      <td>1647844976</td>\n",
       "      <td>85</td>\n",
       "      <td>-46.6000</td>\n",
       "      <td>168.3333</td>\n",
       "      <td>60.48</td>\n",
       "      <td>14.74</td>\n",
       "    </tr>\n",
       "    <tr>\n",
       "      <th>4</th>\n",
       "      <td>San Luis</td>\n",
       "      <td>0</td>\n",
       "      <td>AR</td>\n",
       "      <td>1647844977</td>\n",
       "      <td>55</td>\n",
       "      <td>-33.2950</td>\n",
       "      <td>-66.3356</td>\n",
       "      <td>55.62</td>\n",
       "      <td>9.46</td>\n",
       "    </tr>\n",
       "    <tr>\n",
       "      <th>...</th>\n",
       "      <td>...</td>\n",
       "      <td>...</td>\n",
       "      <td>...</td>\n",
       "      <td>...</td>\n",
       "      <td>...</td>\n",
       "      <td>...</td>\n",
       "      <td>...</td>\n",
       "      <td>...</td>\n",
       "      <td>...</td>\n",
       "    </tr>\n",
       "    <tr>\n",
       "      <th>543</th>\n",
       "      <td>Mehamn</td>\n",
       "      <td>100</td>\n",
       "      <td>NO</td>\n",
       "      <td>1647845353</td>\n",
       "      <td>56</td>\n",
       "      <td>71.0357</td>\n",
       "      <td>27.8492</td>\n",
       "      <td>42.71</td>\n",
       "      <td>34.31</td>\n",
       "    </tr>\n",
       "    <tr>\n",
       "      <th>544</th>\n",
       "      <td>Iralaya</td>\n",
       "      <td>100</td>\n",
       "      <td>HN</td>\n",
       "      <td>1647845354</td>\n",
       "      <td>81</td>\n",
       "      <td>15.0000</td>\n",
       "      <td>-83.2333</td>\n",
       "      <td>77.59</td>\n",
       "      <td>13.09</td>\n",
       "    </tr>\n",
       "    <tr>\n",
       "      <th>545</th>\n",
       "      <td>Conde</td>\n",
       "      <td>100</td>\n",
       "      <td>BR</td>\n",
       "      <td>1647845354</td>\n",
       "      <td>94</td>\n",
       "      <td>-7.2597</td>\n",
       "      <td>-34.9075</td>\n",
       "      <td>76.46</td>\n",
       "      <td>3.44</td>\n",
       "    </tr>\n",
       "    <tr>\n",
       "      <th>546</th>\n",
       "      <td>Yuncheng</td>\n",
       "      <td>100</td>\n",
       "      <td>CN</td>\n",
       "      <td>1647845355</td>\n",
       "      <td>54</td>\n",
       "      <td>35.0231</td>\n",
       "      <td>110.9928</td>\n",
       "      <td>55.20</td>\n",
       "      <td>2.75</td>\n",
       "    </tr>\n",
       "    <tr>\n",
       "      <th>547</th>\n",
       "      <td>Arman'</td>\n",
       "      <td>100</td>\n",
       "      <td>RU</td>\n",
       "      <td>1647845356</td>\n",
       "      <td>88</td>\n",
       "      <td>59.7000</td>\n",
       "      <td>150.1667</td>\n",
       "      <td>28.02</td>\n",
       "      <td>11.32</td>\n",
       "    </tr>\n",
       "  </tbody>\n",
       "</table>\n",
       "<p>548 rows × 9 columns</p>\n",
       "</div>"
      ],
      "text/plain": [
       "         City  Cloudiness Country        Date  Humidity      Lat       Lng  \\\n",
       "0     Rikitea           1      PF  1647844974        73 -23.1203 -134.9692   \n",
       "1       Mpika         100      ZM  1647844975        94 -11.8343   31.4529   \n",
       "2        Lebu          47      CL  1647844976        92 -37.6167  -73.6500   \n",
       "3       Bluff          10      NZ  1647844976        85 -46.6000  168.3333   \n",
       "4    San Luis           0      AR  1647844977        55 -33.2950  -66.3356   \n",
       "..        ...         ...     ...         ...       ...      ...       ...   \n",
       "543    Mehamn         100      NO  1647845353        56  71.0357   27.8492   \n",
       "544   Iralaya         100      HN  1647845354        81  15.0000  -83.2333   \n",
       "545     Conde         100      BR  1647845354        94  -7.2597  -34.9075   \n",
       "546  Yuncheng         100      CN  1647845355        54  35.0231  110.9928   \n",
       "547    Arman'         100      RU  1647845356        88  59.7000  150.1667   \n",
       "\n",
       "     Max Temp  Wind Speed  \n",
       "0       79.84       14.16  \n",
       "1       61.97        7.65  \n",
       "2       55.96        4.36  \n",
       "3       60.48       14.74  \n",
       "4       55.62        9.46  \n",
       "..        ...         ...  \n",
       "543     42.71       34.31  \n",
       "544     77.59       13.09  \n",
       "545     76.46        3.44  \n",
       "546     55.20        2.75  \n",
       "547     28.02       11.32  \n",
       "\n",
       "[548 rows x 9 columns]"
      ]
     },
     "execution_count": 8,
     "metadata": {},
     "output_type": "execute_result"
    }
   ],
   "source": [
    "weather_dictionary"
   ]
  },
  {
   "cell_type": "code",
   "execution_count": 9,
   "metadata": {},
   "outputs": [],
   "source": [
    "weather_dictionary.to_csv('exported_data/cities_part_1.csv', index = False)"
   ]
  },
  {
   "cell_type": "markdown",
   "metadata": {},
   "source": [
    "## Inspect the data and remove the cities where the humidity > 100%.\n",
    "----\n",
    "Skip this step if there are no cities that have humidity > 100%. "
   ]
  },
  {
   "cell_type": "code",
   "execution_count": 10,
   "metadata": {},
   "outputs": [],
   "source": [
    "#  Get the indices of cities that have humidity over 100%.\n",
    "#Creating a python list of booleans with a for loop to test the >100 humidity.\n",
    "\n",
    "booleans = []\n",
    "for length in weather_dictionary.Humidity:\n",
    "    if length >100:\n",
    "        booleans.append(True)\n",
    "    else:\n",
    "        booleans.append(False)"
   ]
  },
  {
   "cell_type": "code",
   "execution_count": 11,
   "metadata": {},
   "outputs": [
    {
     "data": {
      "text/plain": [
       "[False, False, False, False, False, False, False, False, False, False]"
      ]
     },
     "execution_count": 11,
     "metadata": {},
     "output_type": "execute_result"
    }
   ],
   "source": [
    "#  Get the indices of cities that have humidity over 100%.\n",
    "booleans[0:10]"
   ]
  },
  {
   "cell_type": "code",
   "execution_count": 12,
   "metadata": {},
   "outputs": [
    {
     "data": {
      "text/plain": [
       "548"
      ]
     },
     "execution_count": 12,
     "metadata": {},
     "output_type": "execute_result"
    }
   ],
   "source": [
    "len(booleans)"
   ]
  },
  {
   "cell_type": "code",
   "execution_count": 13,
   "metadata": {},
   "outputs": [],
   "source": [
    "is_high_humid = pd.Series(booleans)"
   ]
  },
  {
   "cell_type": "code",
   "execution_count": 14,
   "metadata": {},
   "outputs": [
    {
     "data": {
      "text/plain": [
       "0    False\n",
       "1    False\n",
       "2    False\n",
       "3    False\n",
       "4    False\n",
       "5    False\n",
       "6    False\n",
       "7    False\n",
       "8    False\n",
       "9    False\n",
       "dtype: bool"
      ]
     },
     "execution_count": 14,
     "metadata": {},
     "output_type": "execute_result"
    }
   ],
   "source": [
    "is_high_humid.head(10)"
   ]
  },
  {
   "cell_type": "code",
   "execution_count": 15,
   "metadata": {},
   "outputs": [
    {
     "data": {
      "text/html": [
       "<div>\n",
       "<style scoped>\n",
       "    .dataframe tbody tr th:only-of-type {\n",
       "        vertical-align: middle;\n",
       "    }\n",
       "\n",
       "    .dataframe tbody tr th {\n",
       "        vertical-align: top;\n",
       "    }\n",
       "\n",
       "    .dataframe thead th {\n",
       "        text-align: right;\n",
       "    }\n",
       "</style>\n",
       "<table border=\"1\" class=\"dataframe\">\n",
       "  <thead>\n",
       "    <tr style=\"text-align: right;\">\n",
       "      <th></th>\n",
       "      <th>City</th>\n",
       "      <th>Cloudiness</th>\n",
       "      <th>Country</th>\n",
       "      <th>Date</th>\n",
       "      <th>Humidity</th>\n",
       "      <th>Lat</th>\n",
       "      <th>Lng</th>\n",
       "      <th>Max Temp</th>\n",
       "      <th>Wind Speed</th>\n",
       "    </tr>\n",
       "  </thead>\n",
       "  <tbody>\n",
       "  </tbody>\n",
       "</table>\n",
       "</div>"
      ],
      "text/plain": [
       "Empty DataFrame\n",
       "Columns: [City, Cloudiness, Country, Date, Humidity, Lat, Lng, Max Temp, Wind Speed]\n",
       "Index: []"
      ]
     },
     "execution_count": 15,
     "metadata": {},
     "output_type": "execute_result"
    }
   ],
   "source": [
    "#Confirming cities with humidity with greater than 100%\n",
    "weather_dictionary[is_high_humid]\n",
    "#Result at the time of running code shows no cities with humidity with >100%"
   ]
  },
  {
   "cell_type": "markdown",
   "metadata": {},
   "source": [
    "## Plotting the Data\n",
    "* Use proper labeling of the plots using plot titles (including date of analysis) and axes labels.\n",
    "* Save the plotted figures as .pngs."
   ]
  },
  {
   "cell_type": "markdown",
   "metadata": {},
   "source": [
    "## Latitude vs. Temperature Plot"
   ]
  },
  {
   "cell_type": "code",
   "execution_count": 16,
   "metadata": {
    "scrolled": true
   },
   "outputs": [
    {
     "data": {
      "image/png": "[encoded data removed]",
      "text/plain": [
       "<Figure size 432x288 with 1 Axes>"
      ]
     },
     "metadata": {
      "needs_background": "light"
     },
     "output_type": "display_data"
    }
   ],
   "source": [
    "# Create Latitude vs. Temperature Plot scatter plot\n",
    "plt.scatter(weather_dictionary['Lat'], weather_dictionary['Max Temp'], facecolor = 'yellow', edgecolor = 'blue')\n",
    "\n",
    "#Setting the title\n",
    "plt.title('Latitude vs Maximum Temperature (03/21/22)')\n",
    "          \n",
    "#Set x axis label\n",
    "plt.xlabel('Latitude')\n",
    "          \n",
    "#Set y axis label\n",
    "plt.ylabel('Max Temperature (F)')\n",
    "\n",
    "#Applying the grid lines\n",
    "plt.grid(linestyle='-', linewidth=1, alpha =0.25)\n",
    "          \n",
    "plt.show()"
   ]
  },
  {
   "cell_type": "code",
   "execution_count": 17,
   "metadata": {},
   "outputs": [],
   "source": [
    "#^^It can be seen that close to zero latitude (or closer to the equator) would usually result in higher temperatures.^^"
   ]
  },
  {
   "cell_type": "markdown",
   "metadata": {},
   "source": [
    "## Latitude vs. Humidity Plot"
   ]
  },
  {
   "cell_type": "code",
   "execution_count": 18,
   "metadata": {},
   "outputs": [
    {
     "data": {
      "image/png": "[encoded data removed]",
      "text/plain": [
       "<Figure size 432x288 with 1 Axes>"
      ]
     },
     "metadata": {
      "needs_background": "light"
     },
     "output_type": "display_data"
    }
   ],
   "source": [
    "# Create Latitude vs. Humidity Plot scatter plot\n",
    "plt.scatter(weather_dictionary['Lat'], weather_dictionary['Humidity'], facecolor = 'yellow', edgecolor = 'blue')\n",
    "\n",
    "\n",
    "#Setting the title\n",
    "plt.title('Latitude vs Humidity (03/21/22)')\n",
    "\n",
    "#Set x axis label\n",
    "plt.xlabel('Latitude')\n",
    "          \n",
    "#Set y axis label\n",
    "plt.ylabel('Humidity')\n",
    "\n",
    "#Applying the grid lines\n",
    "plt.grid(linestyle='-', linewidth=1, alpha =0.25)\n",
    "\n",
    "plt.show()"
   ]
  },
  {
   "cell_type": "code",
   "execution_count": 19,
   "metadata": {},
   "outputs": [],
   "source": [
    "#It can be seen that those cities which are located further away from the equator are likely to have higher humidity."
   ]
  },
  {
   "cell_type": "markdown",
   "metadata": {},
   "source": [
    "## Latitude vs. Cloudiness Plot"
   ]
  },
  {
   "cell_type": "code",
   "execution_count": 20,
   "metadata": {},
   "outputs": [
    {
     "data": {
      "image/png": "[encoded data removed]",
      "text/plain": [
       "<Figure size 432x288 with 1 Axes>"
      ]
     },
     "metadata": {
      "needs_background": "light"
     },
     "output_type": "display_data"
    }
   ],
   "source": [
    "# Create Latitude vs. Cloudiness Plot scatter plot\n",
    "plt.scatter(weather_dictionary['Lat'], weather_dictionary['Cloudiness'], facecolor = 'yellow', edgecolor = 'blue')\n",
    "\n",
    "#Setting the title\n",
    "plt.title('Latitude vs Cloudiness (03/21/22)')\n",
    "\n",
    "#Set x axis label\n",
    "plt.xlabel('Latitude')\n",
    "          \n",
    "#Set y axis label\n",
    "plt.ylabel('Cloudiness')\n",
    "\n",
    "#Applying the grid lines\n",
    "plt.grid(linestyle='-', linewidth=1, alpha =0.25)\n",
    "\n",
    "plt.show()"
   ]
  },
  {
   "cell_type": "code",
   "execution_count": 21,
   "metadata": {},
   "outputs": [],
   "source": [
    "#^^Cloudiness is spread across various cities from various latitude.^^"
   ]
  },
  {
   "cell_type": "markdown",
   "metadata": {},
   "source": [
    "## Latitude vs. Wind Speed Plot"
   ]
  },
  {
   "cell_type": "code",
   "execution_count": 22,
   "metadata": {},
   "outputs": [
    {
     "data": {
      "image/png": "[encoded data removed]",
      "text/plain": [
       "<Figure size 432x288 with 1 Axes>"
      ]
     },
     "metadata": {
      "needs_background": "light"
     },
     "output_type": "display_data"
    }
   ],
   "source": [
    "# Create Latitude vs. Wind Speed scatter plot\n",
    "plt.scatter(weather_dictionary['Lat'], weather_dictionary['Wind Speed'], facecolor = 'yellow', edgecolor = 'blue')\n",
    "\n",
    "#Setting the title\n",
    "plt.title('Latitude vs Wind Speed (03/21/22)')\n",
    "\n",
    "#Set x axis label\n",
    "plt.xlabel('Latitude')\n",
    "          \n",
    "#Set y axis label\n",
    "plt.ylabel('Wind Speed')\n",
    "\n",
    "#Applying the grid lines\n",
    "plt.grid(linestyle='-', linewidth=1, alpha =0.25)\n",
    "\n",
    "plt.show()"
   ]
  },
  {
   "cell_type": "code",
   "execution_count": 23,
   "metadata": {},
   "outputs": [],
   "source": [
    "#Wind speed is also spread across latitude."
   ]
  },
  {
   "cell_type": "markdown",
   "metadata": {},
   "source": [
    "## Linear Regression"
   ]
  },
  {
   "cell_type": "code",
   "execution_count": 24,
   "metadata": {},
   "outputs": [],
   "source": [
    "#Creating the seapration for northern and southern hemispheres\n",
    "northern = weather_dictionary.loc[weather_dictionary['Lat'] >= 0]\n",
    "northern.reset_index(inplace=True)\n",
    "\n",
    "southern = weather_dictionary.loc[weather_dictionary['Lat'] < 0]\n",
    "southern.reset_index(inplace=True)\n"
   ]
  },
  {
   "cell_type": "code",
   "execution_count": 25,
   "metadata": {},
   "outputs": [],
   "source": [
    "#Define function for creating linear regression and scatter plot\n",
    "def plot_linear_regression(xdata, ydata, xlab, ylab, labelposition, fig):\n",
    "    (slope, intercept, rvalue, pvalue, stderr) = linregress(xdata,ydata)\n",
    "    print(f'The r-squared is: {rvalue}')\n",
    "    regress_values = xdata * slope + intercept\n",
    "    line_equat = 'y = ' + str(round(slope,2)) + ' x + ' + str(round(intercept, 2))\n",
    "    \n",
    "    plt.scatter(xdata,ydata)\n",
    "    plt.plot(xdata, regress_values,'r-')\n",
    "    plt.annotate(line_equat, labelposition, fontsize = 14, color = 'black')\n",
    "    plt.xlabel(xlab)\n",
    "    plt.ylabel(ylab)\n",
    "    plt.show()"
   ]
  },
  {
   "cell_type": "markdown",
   "metadata": {},
   "source": [
    "####  Northern Hemisphere - Max Temp vs. Latitude Linear Regression"
   ]
  },
  {
   "cell_type": "code",
   "execution_count": 26,
   "metadata": {},
   "outputs": [
    {
     "name": "stdout",
     "output_type": "stream",
     "text": [
      "The r-squared is: -0.8862968887119457\n"
     ]
    },
    {
     "data": {
      "image/png": "[encoded data removed]",
      "text/plain": [
       "<Figure size 432x288 with 1 Axes>"
      ]
     },
     "metadata": {
      "needs_background": "light"
     },
     "output_type": "display_data"
    }
   ],
   "source": [
    "xlab = 'Lat'\n",
    "ylab = 'Max Temp'\n",
    "labelposition = (0,25)\n",
    "plot_linear_regression(northern[xlab], northern[ylab], xlab, ylab, labelposition, 5)"
   ]
  },
  {
   "cell_type": "code",
   "execution_count": 27,
   "metadata": {},
   "outputs": [],
   "source": [
    "#There is a strong negative correlation between latitude and maximum temperatures in the northern hemisphere."
   ]
  },
  {
   "cell_type": "markdown",
   "metadata": {},
   "source": [
    "####  Southern Hemisphere - Max Temp vs. Latitude Linear Regression"
   ]
  },
  {
   "cell_type": "code",
   "execution_count": 28,
   "metadata": {},
   "outputs": [
    {
     "name": "stdout",
     "output_type": "stream",
     "text": [
      "The r-squared is: 0.5251849672402338\n"
     ]
    },
    {
     "data": {
      "image/png": "[encoded data removed]",
      "text/plain": [
       "<Figure size 432x288 with 1 Axes>"
      ]
     },
     "metadata": {
      "needs_background": "light"
     },
     "output_type": "display_data"
    }
   ],
   "source": [
    "xlab = 'Lat'\n",
    "ylab = 'Max Temp'\n",
    "labelposition = (-55,90)\n",
    "plot_linear_regression(southern[xlab], southern[ylab], xlab, ylab, labelposition, 6)"
   ]
  },
  {
   "cell_type": "code",
   "execution_count": 29,
   "metadata": {},
   "outputs": [],
   "source": [
    "#There is a moderate positive correlation between latitude and maximum temperatures in the northern hemisphere."
   ]
  },
  {
   "cell_type": "markdown",
   "metadata": {},
   "source": [
    "####  Northern Hemisphere - Humidity (%) vs. Latitude Linear Regression"
   ]
  },
  {
   "cell_type": "code",
   "execution_count": 30,
   "metadata": {},
   "outputs": [
    {
     "name": "stdout",
     "output_type": "stream",
     "text": [
      "The r-squared is: 0.3866632504886479\n"
     ]
    },
    {
     "data": {
      "image/png": "[encoded data removed]",
      "text/plain": [
       "<Figure size 432x288 with 1 Axes>"
      ]
     },
     "metadata": {
      "needs_background": "light"
     },
     "output_type": "display_data"
    }
   ],
   "source": [
    "xlab = 'Lat'\n",
    "ylab = 'Humidity'\n",
    "labelposition = (45,10)\n",
    "plot_linear_regression(northern[xlab], northern[ylab], xlab, ylab, labelposition, 7)"
   ]
  },
  {
   "cell_type": "code",
   "execution_count": 31,
   "metadata": {},
   "outputs": [],
   "source": [
    "#There is a moderate positive correlation between latitude and humidity in the northern hemisphere."
   ]
  },
  {
   "cell_type": "markdown",
   "metadata": {},
   "source": [
    "####  Southern Hemisphere - Humidity (%) vs. Latitude Linear Regression"
   ]
  },
  {
   "cell_type": "code",
   "execution_count": 32,
   "metadata": {},
   "outputs": [
    {
     "name": "stdout",
     "output_type": "stream",
     "text": [
      "The r-squared is: 0.24260011714818244\n"
     ]
    },
    {
     "data": {
      "image/png": "[encoded data removed]",
      "text/plain": [
       "<Figure size 432x288 with 1 Axes>"
      ]
     },
     "metadata": {
      "needs_background": "light"
     },
     "output_type": "display_data"
    }
   ],
   "source": [
    "xlab = 'Lat'\n",
    "ylab = 'Humidity'\n",
    "labelposition = (-55,30)\n",
    "plot_linear_regression(southern[xlab], southern[ylab], xlab, ylab, labelposition, 8)"
   ]
  },
  {
   "cell_type": "code",
   "execution_count": 33,
   "metadata": {},
   "outputs": [],
   "source": [
    "#There is a weak positive correlation between latitude and humidity for the southern hemisphere."
   ]
  },
  {
   "cell_type": "markdown",
   "metadata": {},
   "source": [
    "####  Northern Hemisphere - Cloudiness (%) vs. Latitude Linear Regression"
   ]
  },
  {
   "cell_type": "code",
   "execution_count": 34,
   "metadata": {},
   "outputs": [
    {
     "name": "stdout",
     "output_type": "stream",
     "text": [
      "The r-squared is: 0.16124242778362555\n"
     ]
    },
    {
     "data": {
      "image/png": "[encoded data removed]",
      "text/plain": [
       "<Figure size 432x288 with 1 Axes>"
      ]
     },
     "metadata": {
      "needs_background": "light"
     },
     "output_type": "display_data"
    }
   ],
   "source": [
    "xlab = 'Lat'\n",
    "ylab = 'Cloudiness'\n",
    "labelposition = (40,80)\n",
    "plot_linear_regression(northern[xlab], northern[ylab], xlab, ylab, labelposition, 9)"
   ]
  },
  {
   "cell_type": "code",
   "execution_count": 35,
   "metadata": {},
   "outputs": [],
   "source": [
    "#There is a weak positive correlation between latitude and cloudiness for the northern hemisphere."
   ]
  },
  {
   "cell_type": "markdown",
   "metadata": {},
   "source": [
    "####  Southern Hemisphere - Cloudiness (%) vs. Latitude Linear Regression"
   ]
  },
  {
   "cell_type": "code",
   "execution_count": 36,
   "metadata": {},
   "outputs": [
    {
     "name": "stdout",
     "output_type": "stream",
     "text": [
      "The r-squared is: 0.3497387867454542\n"
     ]
    },
    {
     "data": {
      "image/png": "[encoded data removed]",
      "text/plain": [
       "<Figure size 432x288 with 1 Axes>"
      ]
     },
     "metadata": {
      "needs_background": "light"
     },
     "output_type": "display_data"
    }
   ],
   "source": [
    "xlab = 'Lat'\n",
    "ylab = 'Cloudiness'\n",
    "labelposition = (-55,80)\n",
    "plot_linear_regression(southern[xlab], southern[ylab], xlab, ylab, labelposition, 10)"
   ]
  },
  {
   "cell_type": "code",
   "execution_count": 37,
   "metadata": {},
   "outputs": [],
   "source": [
    "#There is a moderate positive correlation between latitude and cloudiness for the southern hemisphere."
   ]
  },
  {
   "cell_type": "markdown",
   "metadata": {},
   "source": [
    "####  Northern Hemisphere - Wind Speed (mph) vs. Latitude Linear Regression"
   ]
  },
  {
   "cell_type": "code",
   "execution_count": 38,
   "metadata": {},
   "outputs": [
    {
     "name": "stdout",
     "output_type": "stream",
     "text": [
      "The r-squared is: 0.2062026162402548\n"
     ]
    },
    {
     "data": {
      "image/png": "[encoded data removed]",
      "text/plain": [
       "<Figure size 432x288 with 1 Axes>"
      ]
     },
     "metadata": {
      "needs_background": "light"
     },
     "output_type": "display_data"
    }
   ],
   "source": [
    "xlab = 'Lat'\n",
    "ylab = 'Wind Speed'\n",
    "labelposition = (10,30)\n",
    "plot_linear_regression(northern[xlab], northern[ylab], xlab, ylab, labelposition, 11)"
   ]
  },
  {
   "cell_type": "code",
   "execution_count": 39,
   "metadata": {},
   "outputs": [],
   "source": [
    "#There is a weak positive correlation between latitude and wind speed for the northern hemisphere."
   ]
  },
  {
   "cell_type": "markdown",
   "metadata": {},
   "source": [
    "####  Southern Hemisphere - Wind Speed (mph) vs. Latitude Linear Regression"
   ]
  },
  {
   "cell_type": "code",
   "execution_count": 40,
   "metadata": {},
   "outputs": [
    {
     "name": "stdout",
     "output_type": "stream",
     "text": [
      "The r-squared is: -0.3248125394295851\n"
     ]
    },
    {
     "data": {
      "image/png": "[encoded data removed]",
      "text/plain": [
       "<Figure size 432x288 with 1 Axes>"
      ]
     },
     "metadata": {
      "needs_background": "light"
     },
     "output_type": "display_data"
    }
   ],
   "source": [
    "xlab = 'Lat'\n",
    "ylab = 'Wind Speed'\n",
    "labelposition = (-30,20)\n",
    "plot_linear_regression(southern[xlab], southern[ylab], xlab, ylab, labelposition, 12)"
   ]
  },
  {
   "cell_type": "code",
   "execution_count": 41,
   "metadata": {},
   "outputs": [],
   "source": [
    "#There is a moderate negative correlation between latitude and wind speed for the southern hemisphere."
   ]
  }
 ],
 "metadata": {
  "anaconda-cloud": {},
  "kernel_info": {
   "name": "python3"
  },
  "kernelspec": {
   "display_name": "Python 3 (ipykernel)",
   "language": "python",
   "name": "python3"
  },
  "language_info": {
   "codemirror_mode": {
    "name": "ipython",
    "version": 3
   },
   "file_extension": ".py",
   "mimetype": "text/x-python",
   "name": "python",
   "nbconvert_exporter": "python",
   "pygments_lexer": "ipython3",
   "version": "3.9.7"
  },
  "latex_envs": {
   "LaTeX_envs_menu_present": true,
   "autoclose": false,
   "autocomplete": true,
   "bibliofile": "biblio.bib",
   "cite_by": "apalike",
   "current_citInitial": 1,
   "eqLabelWithNumbers": true,
   "eqNumInitial": 1,
   "hotkeys": {
    "equation": "Ctrl-E",
    "itemize": "Ctrl-I"
   },
   "labels_anchors": false,
   "latex_user_defs": false,
   "report_style_numbering": false,
   "user_envs_cfg": false
  },
  "nteract": {
   "version": "0.12.3"
  }
 },
 "nbformat": 4,
 "nbformat_minor": 2
}
